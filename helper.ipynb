{
 "cells": [
  {
   "cell_type": "code",
   "execution_count": 6,
   "id": "ce543027",
   "metadata": {},
   "outputs": [
    {
     "name": "stdout",
     "output_type": "stream",
     "text": [
      "Number of data points where altitude > 2000: 11\n",
      "\n",
      "   SN  altitude                 date_time  device_info_serial   direction  latitude  longitude  speed_2d bird_name       date  index_right    country\n",
      "13411      -830 2014-02-01 14:59:15+00:00                 851  -66.613670 30.443772  -9.647817  0.360555      Eric 2014-02-01        162.0    Morocco\n",
      "25006      -845 2013-10-16 17:11:21+00:00                 864    9.335342 50.371583   3.617942 20.277199      Nico 2013-10-16        129.0    Belgium\n",
      "25007      -965 2013-10-16 17:26:18+00:00                 864   21.814507 50.371136   3.616614  5.516965      Nico 2013-10-16        129.0    Belgium\n",
      "25008      -766 2013-10-16 17:41:11+00:00                 864  -77.002055 50.370263   3.616752  5.953159      Nico 2013-10-16        129.0    Belgium\n",
      "25009      -750 2013-10-16 17:56:07+00:00                 864  -26.288573 50.370897   3.613641  1.986001      Nico 2013-10-16        129.0    Belgium\n",
      "42802      -970 2013-09-07 11:53:39+00:00                 833  -14.629254 36.781386  -8.861204  0.266833     Sanne 2013-09-07          NaN        Sea\n",
      "44422      -803 2013-09-27 11:03:50+00:00                 833 -134.998789 18.327670 -16.050568  2.204450     Sanne 2013-09-27         53.0 Mauritania\n",
      "46044      -769 2013-10-17 01:47:53+00:00                 833  124.842109 14.091329 -16.766576  9.040000     Sanne 2013-10-17         51.0    Senegal\n",
      "48310      -749 2013-11-13 11:37:50+00:00                 833  -51.325873 14.091931 -16.783110  2.010224     Sanne 2013-11-13         51.0    Senegal\n",
      "53702      -721 2014-01-19 13:36:51+00:00                 833 -104.995266 14.138530 -16.805855  3.756009     Sanne 2014-01-19         51.0    Senegal\n",
      "55608     -1010 2014-02-11 17:00:57+00:00                 833   18.613653 14.945072 -17.112842  1.838478     Sanne 2014-02-11         51.0    Senegal\n"
     ]
    }
   ],
   "source": [
    "import pandas as pd\n",
    "\n",
    "# Load the dataset\n",
    "df = pd.read_csv(\"bird_migration_with_country.csv\")\n",
    "\n",
    "# Filter rows where altitude > 1000\n",
    "high_altitude_df = df[df['altitude'] < -700]\n",
    "\n",
    "# Print count\n",
    "print(f\"Number of data points where altitude > 2000: {len(high_altitude_df)}\\n\")\n",
    "\n",
    "# Print full rows\n",
    "print(high_altitude_df.to_string(index=False))\n"
   ]
  },
  {
   "cell_type": "code",
   "execution_count": null,
   "id": "b9f4d28b",
   "metadata": {},
   "outputs": [],
   "source": []
  }
 ],
 "metadata": {
  "kernelspec": {
   "display_name": "base",
   "language": "python",
   "name": "python3"
  },
  "language_info": {
   "codemirror_mode": {
    "name": "ipython",
    "version": 3
   },
   "file_extension": ".py",
   "mimetype": "text/x-python",
   "name": "python",
   "nbconvert_exporter": "python",
   "pygments_lexer": "ipython3",
   "version": "3.12.2"
  }
 },
 "nbformat": 4,
 "nbformat_minor": 5
}

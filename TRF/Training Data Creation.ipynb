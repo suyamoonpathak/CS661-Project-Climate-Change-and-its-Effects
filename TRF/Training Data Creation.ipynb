{
 "cells": [
  {
   "cell_type": "code",
   "execution_count": 1,
   "id": "6cff14b5-c64d-4051-8d10-68736a1fa81a",
   "metadata": {},
   "outputs": [],
   "source": [
    "import torch\n",
    "import pandas as pd\n",
    "import numpy as np\n",
    "import random"
   ]
  },
  {
   "cell_type": "code",
   "execution_count": 2,
   "id": "2ed6136b-5c8d-4df7-a4d2-ad6624bb4658",
   "metadata": {},
   "outputs": [],
   "source": [
    "data = pd.read_csv(\"climate_disease_dataset.csv\")\n",
    "df = data"
   ]
  },
  {
   "cell_type": "code",
   "execution_count": 3,
   "id": "7a5a4b90",
   "metadata": {},
   "outputs": [],
   "source": [
    "df['date'] = pd.to_datetime(df['year'].astype(str) + '-' + df['month'].astype(str) + '-01')\n",
    "df['country'] = pd.DataFrame(df['country'].astype(str) + '(' + df['region'].astype(str) + ')')\n",
    "REGION = np.unique(df.region)\n",
    "DATES = np.unique(df.date)\n",
    "COUNTRY_NAME = np.unique(df['country'].values)\n",
    "MONTHS = {1 : 'Jan', 2 : 'Feb', 3 : 'Mar', 4 : 'Apr', 5 : 'May', 6 : 'June',\n",
    "          7 : 'July', 8 : 'Aug', 9 : 'Sep', 10 : 'Oct', 11 : 'Nov', 12 : 'Dec', 13 : 'Whole Year'}\n",
    "dic = {}\n",
    "\n",
    "for name in COUNTRY_NAME:\n",
    "    dic[name] = df[df.country == name].drop(['healthcare_budget', 'population_density', 'country','region', 'year'], axis=1).reset_index(drop=True)\n",
    "\n",
    "for reg in REGION:\n",
    "    dic[reg] = df[df['region'] == reg].groupby('date',as_index=False)[['avg_temp_c', 'uv_index', 'air_quality_index', 'precipitation_mm', 'malaria_cases', 'dengue_cases', 'date', 'month']].mean().reset_index(drop=True)\n",
    "    dic[reg]['month'] = dic[reg]['month'].astype(int)"
   ]
  },
  {
   "cell_type": "code",
   "execution_count": 4,
   "id": "bcda11d0-1797-4fab-811f-05bb84a098b0",
   "metadata": {},
   "outputs": [
    {
     "data": {
      "text/plain": [
       "Index(['year', 'month', 'country', 'region', 'avg_temp_c', 'precipitation_mm',\n",
       "       'air_quality_index', 'uv_index', 'malaria_cases', 'dengue_cases',\n",
       "       'population_density', 'healthcare_budget', 'date'],\n",
       "      dtype='object')"
      ]
     },
     "execution_count": 4,
     "metadata": {},
     "output_type": "execute_result"
    }
   ],
   "source": [
    "df.keys()"
   ]
  },
  {
   "cell_type": "code",
   "execution_count": 5,
   "id": "5f73ae37-67bd-442d-8c94-c459ff6e4f32",
   "metadata": {},
   "outputs": [
    {
     "data": {
      "text/plain": [
       "RangeIndex(start=0, stop=288, step=1)"
      ]
     },
     "execution_count": 5,
     "metadata": {},
     "output_type": "execute_result"
    }
   ],
   "source": [
    "dic[name].index"
   ]
  },
  {
   "cell_type": "code",
   "execution_count": 6,
   "id": "186ef818-77f3-4ae5-9355-fd5968b113b3",
   "metadata": {},
   "outputs": [
    {
     "data": {
      "text/html": [
       "<div>\n",
       "<style scoped>\n",
       "    .dataframe tbody tr th:only-of-type {\n",
       "        vertical-align: middle;\n",
       "    }\n",
       "\n",
       "    .dataframe tbody tr th {\n",
       "        vertical-align: top;\n",
       "    }\n",
       "\n",
       "    .dataframe thead th {\n",
       "        text-align: right;\n",
       "    }\n",
       "</style>\n",
       "<table border=\"1\" class=\"dataframe\">\n",
       "  <thead>\n",
       "    <tr style=\"text-align: right;\">\n",
       "      <th></th>\n",
       "      <th>month</th>\n",
       "      <th>avg_temp_c</th>\n",
       "      <th>precipitation_mm</th>\n",
       "      <th>air_quality_index</th>\n",
       "      <th>uv_index</th>\n",
       "      <th>malaria_cases</th>\n",
       "      <th>dengue_cases</th>\n",
       "      <th>date</th>\n",
       "    </tr>\n",
       "  </thead>\n",
       "  <tbody>\n",
       "    <tr>\n",
       "      <th>0</th>\n",
       "      <td>1</td>\n",
       "      <td>29.532837</td>\n",
       "      <td>105.900609</td>\n",
       "      <td>2.289610</td>\n",
       "      <td>12.000000</td>\n",
       "      <td>113</td>\n",
       "      <td>109</td>\n",
       "      <td>2000-01-01</td>\n",
       "    </tr>\n",
       "    <tr>\n",
       "      <th>1</th>\n",
       "      <td>2</td>\n",
       "      <td>33.436671</td>\n",
       "      <td>204.743505</td>\n",
       "      <td>11.228808</td>\n",
       "      <td>12.000000</td>\n",
       "      <td>136</td>\n",
       "      <td>94</td>\n",
       "      <td>2000-02-01</td>\n",
       "    </tr>\n",
       "    <tr>\n",
       "      <th>2</th>\n",
       "      <td>3</td>\n",
       "      <td>31.987565</td>\n",
       "      <td>153.683992</td>\n",
       "      <td>38.104784</td>\n",
       "      <td>12.000000</td>\n",
       "      <td>134</td>\n",
       "      <td>80</td>\n",
       "      <td>2000-03-01</td>\n",
       "    </tr>\n",
       "    <tr>\n",
       "      <th>3</th>\n",
       "      <td>4</td>\n",
       "      <td>29.816317</td>\n",
       "      <td>130.746789</td>\n",
       "      <td>0.000000</td>\n",
       "      <td>12.000000</td>\n",
       "      <td>51</td>\n",
       "      <td>117</td>\n",
       "      <td>2000-04-01</td>\n",
       "    </tr>\n",
       "    <tr>\n",
       "      <th>4</th>\n",
       "      <td>5</td>\n",
       "      <td>32.615551</td>\n",
       "      <td>99.971301</td>\n",
       "      <td>0.000000</td>\n",
       "      <td>12.000000</td>\n",
       "      <td>134</td>\n",
       "      <td>126</td>\n",
       "      <td>2000-05-01</td>\n",
       "    </tr>\n",
       "    <tr>\n",
       "      <th>...</th>\n",
       "      <td>...</td>\n",
       "      <td>...</td>\n",
       "      <td>...</td>\n",
       "      <td>...</td>\n",
       "      <td>...</td>\n",
       "      <td>...</td>\n",
       "      <td>...</td>\n",
       "      <td>...</td>\n",
       "    </tr>\n",
       "    <tr>\n",
       "      <th>283</th>\n",
       "      <td>8</td>\n",
       "      <td>22.786152</td>\n",
       "      <td>179.236451</td>\n",
       "      <td>0.000000</td>\n",
       "      <td>12.000000</td>\n",
       "      <td>16</td>\n",
       "      <td>106</td>\n",
       "      <td>2023-08-01</td>\n",
       "    </tr>\n",
       "    <tr>\n",
       "      <th>284</th>\n",
       "      <td>9</td>\n",
       "      <td>21.011076</td>\n",
       "      <td>188.270855</td>\n",
       "      <td>0.000000</td>\n",
       "      <td>11.887276</td>\n",
       "      <td>27</td>\n",
       "      <td>21</td>\n",
       "      <td>2023-09-01</td>\n",
       "    </tr>\n",
       "    <tr>\n",
       "      <th>285</th>\n",
       "      <td>10</td>\n",
       "      <td>22.651652</td>\n",
       "      <td>159.423937</td>\n",
       "      <td>1.580432</td>\n",
       "      <td>10.493560</td>\n",
       "      <td>67</td>\n",
       "      <td>71</td>\n",
       "      <td>2023-10-01</td>\n",
       "    </tr>\n",
       "    <tr>\n",
       "      <th>286</th>\n",
       "      <td>11</td>\n",
       "      <td>23.837353</td>\n",
       "      <td>60.190065</td>\n",
       "      <td>18.468966</td>\n",
       "      <td>12.000000</td>\n",
       "      <td>30</td>\n",
       "      <td>117</td>\n",
       "      <td>2023-11-01</td>\n",
       "    </tr>\n",
       "    <tr>\n",
       "      <th>287</th>\n",
       "      <td>12</td>\n",
       "      <td>31.157378</td>\n",
       "      <td>77.911598</td>\n",
       "      <td>4.983870</td>\n",
       "      <td>12.000000</td>\n",
       "      <td>61</td>\n",
       "      <td>86</td>\n",
       "      <td>2023-12-01</td>\n",
       "    </tr>\n",
       "  </tbody>\n",
       "</table>\n",
       "<p>288 rows × 8 columns</p>\n",
       "</div>"
      ],
      "text/plain": [
       "     month  avg_temp_c  precipitation_mm  air_quality_index   uv_index  \\\n",
       "0        1   29.532837        105.900609           2.289610  12.000000   \n",
       "1        2   33.436671        204.743505          11.228808  12.000000   \n",
       "2        3   31.987565        153.683992          38.104784  12.000000   \n",
       "3        4   29.816317        130.746789           0.000000  12.000000   \n",
       "4        5   32.615551         99.971301           0.000000  12.000000   \n",
       "..     ...         ...               ...                ...        ...   \n",
       "283      8   22.786152        179.236451           0.000000  12.000000   \n",
       "284      9   21.011076        188.270855           0.000000  11.887276   \n",
       "285     10   22.651652        159.423937           1.580432  10.493560   \n",
       "286     11   23.837353         60.190065          18.468966  12.000000   \n",
       "287     12   31.157378         77.911598           4.983870  12.000000   \n",
       "\n",
       "     malaria_cases  dengue_cases       date  \n",
       "0              113           109 2000-01-01  \n",
       "1              136            94 2000-02-01  \n",
       "2              134            80 2000-03-01  \n",
       "3               51           117 2000-04-01  \n",
       "4              134           126 2000-05-01  \n",
       "..             ...           ...        ...  \n",
       "283             16           106 2023-08-01  \n",
       "284             27            21 2023-09-01  \n",
       "285             67            71 2023-10-01  \n",
       "286             30           117 2023-11-01  \n",
       "287             61            86 2023-12-01  \n",
       "\n",
       "[288 rows x 8 columns]"
      ]
     },
     "execution_count": 6,
     "metadata": {},
     "output_type": "execute_result"
    }
   ],
   "source": [
    "dic[name]"
   ]
  },
  {
   "cell_type": "code",
   "execution_count": 7,
   "id": "e5a22d71-e63d-4fd5-a580-c2f56c667e3f",
   "metadata": {},
   "outputs": [],
   "source": [
    "x = []\n",
    "y = []\n",
    "l = 10\n",
    "a = [[0 for _ in range(4)]for _ in range(l)]\n",
    "b = [[0 for _ in range(2)]for _ in range(l)]\n",
    "for key in dic.keys():\n",
    "    temp_df = dic[key]\n",
    "    for i in range(temp_df.index.start, temp_df.index.stop, temp_df.index.step):\n",
    "        a[l - 1] = list([temp_df['avg_temp_c'][i], temp_df['precipitation_mm'][i], temp_df['air_quality_index'][i], temp_df['uv_index'][i]])\n",
    "        b[l-1] = list([temp_df['malaria_cases'][i], temp_df['dengue_cases'][i]])\n",
    "        x.append(np.array(a, dtype = np.float32))\n",
    "        y.append(np.array(b, dtype = np.float32))\n",
    "        for j in range(l - 1):\n",
    "            a[j] = a[j + 1]\n",
    "            b[j] = b[j + 1]"
   ]
  },
  {
   "cell_type": "code",
   "execution_count": 8,
   "id": "232deeba-2383-4fbf-b4ef-8a43b6441d75",
   "metadata": {},
   "outputs": [
    {
     "data": {
      "text/plain": [
       "RangeIndex(start=0, stop=288, step=1)"
      ]
     },
     "execution_count": 8,
     "metadata": {},
     "output_type": "execute_result"
    }
   ],
   "source": [
    "temp_df.index"
   ]
  },
  {
   "cell_type": "code",
   "execution_count": 9,
   "id": "8c590807-f61e-45a8-bb3f-202a6849278f",
   "metadata": {},
   "outputs": [
    {
     "data": {
      "text/plain": [
       "(36000, 36000)"
      ]
     },
     "execution_count": 9,
     "metadata": {},
     "output_type": "execute_result"
    }
   ],
   "source": [
    "len(x), len(y)"
   ]
  },
  {
   "cell_type": "code",
   "execution_count": 10,
   "id": "0ef98a66-5d1f-4a65-a9dd-b964c4c16983",
   "metadata": {},
   "outputs": [],
   "source": [
    "x_train = []\n",
    "y_train = []\n",
    "x_test = []\n",
    "y_test = []\n",
    "for i in range(0, len(x), 50) :\n",
    "    if random.random() <= 0.2:\n",
    "        x_test+=x[i : i + 50]\n",
    "        y_test+=y[i : i + 50]\n",
    "    else :\n",
    "        x_train+=x[i : i + 50]\n",
    "        y_train+=y[i : i + 50]     "
   ]
  },
  {
   "cell_type": "code",
   "execution_count": 11,
   "id": "483fdc71-5c93-4e6b-82db-3042d2d3859a",
   "metadata": {},
   "outputs": [
    {
     "data": {
      "text/plain": [
       "24550"
      ]
     },
     "execution_count": 11,
     "metadata": {},
     "output_type": "execute_result"
    }
   ],
   "source": [
    "len(x_train)"
   ]
  },
  {
   "cell_type": "code",
   "execution_count": 12,
   "id": "9cecc562-8a56-438e-8ed3-e442a32e9ed3",
   "metadata": {},
   "outputs": [
    {
     "data": {
      "text/plain": [
       "11450"
      ]
     },
     "execution_count": 12,
     "metadata": {},
     "output_type": "execute_result"
    }
   ],
   "source": [
    "len(x_test)"
   ]
  },
  {
   "cell_type": "code",
   "execution_count": 13,
   "id": "e4850254-e54c-4bd3-97fd-ab64f33e9307",
   "metadata": {},
   "outputs": [],
   "source": [
    "x_train = np.array(x_train, dtype = np.float32)\n",
    "x_test = np.array(x_test, dtype = np.float32)\n",
    "y_train = np.array(y_train, dtype = np.float32)\n",
    "y_test = np.array(y_test, dtype = np.float32)"
   ]
  },
  {
   "cell_type": "code",
   "execution_count": 14,
   "id": "2f149ad2-fc80-4496-99a6-40a8d5f5f91f",
   "metadata": {},
   "outputs": [
    {
     "data": {
      "text/plain": [
       "11450"
      ]
     },
     "execution_count": 14,
     "metadata": {},
     "output_type": "execute_result"
    }
   ],
   "source": [
    "len(y_test)"
   ]
  },
  {
   "cell_type": "code",
   "execution_count": 15,
   "id": "320a773a-8342-4116-ad26-cfba0e12fed0",
   "metadata": {},
   "outputs": [],
   "source": [
    "d = {\n",
    "    'x_train' : x_train,\n",
    "    'x_test' : x_test,\n",
    "    'y_train' : y_train,\n",
    "    'y_test' : y_test,\n",
    "}"
   ]
  },
  {
   "cell_type": "code",
   "execution_count": 16,
   "id": "5e2df8f2-8eb8-40c8-8fdd-bc0b8a7f13df",
   "metadata": {},
   "outputs": [],
   "source": [
    "np.savez('Data', **d)"
   ]
  },
  {
   "cell_type": "code",
   "execution_count": 17,
   "id": "4de115e5-21a8-4b89-b2f2-107dcd3ad645",
   "metadata": {},
   "outputs": [
    {
     "data": {
      "text/plain": [
       "array([[[ 16.646215 , 328.8227   ,  10.488923 ,  12.       ],\n",
       "        [ 14.859339 , 251.1813   ,  15.473769 ,  11.25089  ],\n",
       "        [ 18.954456 , 292.88034  ,  20.1405   ,  12.       ],\n",
       "        [ 24.387983 , 203.4421   ,  69.88813  ,   7.1318774],\n",
       "        [ 26.176033 , 247.02904  ,  75.479866 ,  11.458607 ],\n",
       "        [ 25.883562 , 211.64346  ,   0.       ,  11.306276 ],\n",
       "        [ 28.383398 , 270.5102   ,  32.744167 ,  10.234283 ],\n",
       "        [ 23.340456 , 209.03441  ,   0.       ,  12.       ],\n",
       "        [ 18.442076 , 314.5988   ,  33.01833  ,  12.       ],\n",
       "        [ 16.761812 , 200.92487  ,  50.92178  ,  12.       ]],\n",
       "\n",
       "       [[ 14.859339 , 251.1813   ,  15.473769 ,  11.25089  ],\n",
       "        [ 18.954456 , 292.88034  ,  20.1405   ,  12.       ],\n",
       "        [ 24.387983 , 203.4421   ,  69.88813  ,   7.1318774],\n",
       "        [ 26.176033 , 247.02904  ,  75.479866 ,  11.458607 ],\n",
       "        [ 25.883562 , 211.64346  ,   0.       ,  11.306276 ],\n",
       "        [ 28.383398 , 270.5102   ,  32.744167 ,  10.234283 ],\n",
       "        [ 23.340456 , 209.03441  ,   0.       ,  12.       ],\n",
       "        [ 18.442076 , 314.5988   ,  33.01833  ,  12.       ],\n",
       "        [ 16.761812 , 200.92487  ,  50.92178  ,  12.       ],\n",
       "        [ 13.035307 , 202.19154  ,  39.700844 ,  11.788972 ]]],\n",
       "      dtype=float32)"
      ]
     },
     "execution_count": 17,
     "metadata": {},
     "output_type": "execute_result"
    }
   ],
   "source": [
    "x_train[500:502]"
   ]
  },
  {
   "cell_type": "code",
   "execution_count": 18,
   "id": "b87bbb08-5f9b-48c7-a59e-c189ef6e7cd6",
   "metadata": {},
   "outputs": [
    {
     "data": {
      "text/plain": [
       "array([[ 13.380206 , 291.8719   ,   0.       ,  10.527265 ],\n",
       "       [ 11.724961 , 289.44092  ,  45.684746 ,  12.       ],\n",
       "       [  9.738345 , 281.57803  ,  12.078513 ,  12.       ],\n",
       "       [ 11.740838 , 186.4619   ,  35.350967 ,   9.171999 ],\n",
       "       [ 13.1386385, 229.28162  ,   9.323229 ,  12.       ],\n",
       "       [ 18.257786 , 146.97997  ,   2.171863 ,   7.7657156],\n",
       "       [ 22.88743  , 226.37204  ,  12.335747 ,  11.935264 ],\n",
       "       [ 27.917664 , 136.07204  ,  59.055386 ,   7.8727098],\n",
       "       [ 29.301603 , 180.8215   ,   8.506149 ,  10.949083 ],\n",
       "       [ 25.170374 , 109.33289  ,  16.417788 ,  11.162393 ]],\n",
       "      dtype=float32)"
      ]
     },
     "execution_count": 18,
     "metadata": {},
     "output_type": "execute_result"
    }
   ],
   "source": [
    "x_train[1]"
   ]
  },
  {
   "cell_type": "code",
   "execution_count": 19,
   "id": "32cdc312-1e1f-4191-8c7e-7e904eac1d31",
   "metadata": {},
   "outputs": [
    {
     "data": {
      "text/plain": [
       "array([[[ 92.      , 108.      ],\n",
       "        [111.      ,  90.      ],\n",
       "        [  0.      ,  49.      ],\n",
       "        ...,\n",
       "        [127.      ,  43.      ],\n",
       "        [  0.      ,  67.      ],\n",
       "        [102.      ,  54.      ]],\n",
       "\n",
       "       [[111.      ,  90.      ],\n",
       "        [  0.      ,  49.      ],\n",
       "        [ 18.      ,  14.      ],\n",
       "        ...,\n",
       "        [  0.      ,  67.      ],\n",
       "        [102.      ,  54.      ],\n",
       "        [  0.      ,  42.      ]],\n",
       "\n",
       "       [[  0.      ,  49.      ],\n",
       "        [ 18.      ,  14.      ],\n",
       "        [  0.      ,  64.      ],\n",
       "        ...,\n",
       "        [102.      ,  54.      ],\n",
       "        [  0.      ,  42.      ],\n",
       "        [ 19.      , 100.      ]],\n",
       "\n",
       "       ...,\n",
       "\n",
       "       [[ 77.066666,  89.73333 ],\n",
       "        [ 86.03333 ,  98.26667 ],\n",
       "        [ 89.76667 , 100.566666],\n",
       "        ...,\n",
       "        [ 63.7     ,  67.833336],\n",
       "        [ 57.2     ,  64.      ],\n",
       "        [ 68.566666,  68.76667 ]],\n",
       "\n",
       "       [[ 86.03333 ,  98.26667 ],\n",
       "        [ 89.76667 , 100.566666],\n",
       "        [ 94.36667 , 106.53333 ],\n",
       "        ...,\n",
       "        [ 57.2     ,  64.      ],\n",
       "        [ 68.566666,  68.76667 ],\n",
       "        [ 69.03333 ,  68.26667 ]],\n",
       "\n",
       "       [[ 89.76667 , 100.566666],\n",
       "        [ 94.36667 , 106.53333 ],\n",
       "        [ 79.066666,  85.63333 ],\n",
       "        ...,\n",
       "        [ 68.566666,  68.76667 ],\n",
       "        [ 69.03333 ,  68.26667 ],\n",
       "        [ 65.36667 ,  87.5     ]]], dtype=float32)"
      ]
     },
     "execution_count": 19,
     "metadata": {},
     "output_type": "execute_result"
    }
   ],
   "source": [
    "y_train"
   ]
  },
  {
   "cell_type": "code",
   "execution_count": null,
   "id": "1cd617a6-d41e-43ee-b7e3-cf34ef07f279",
   "metadata": {},
   "outputs": [],
   "source": []
  }
 ],
 "metadata": {
  "kernelspec": {
   "display_name": "NLP",
   "language": "python",
   "name": "nlp"
  },
  "language_info": {
   "codemirror_mode": {
    "name": "ipython",
    "version": 3
   },
   "file_extension": ".py",
   "mimetype": "text/x-python",
   "name": "python",
   "nbconvert_exporter": "python",
   "pygments_lexer": "ipython3",
   "version": "3.12.2"
  }
 },
 "nbformat": 4,
 "nbformat_minor": 5
}
